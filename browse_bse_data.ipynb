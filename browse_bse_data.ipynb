{
 "cells": [
  {
   "cell_type": "code",
   "execution_count": 1,
   "id": "035e99e4",
   "metadata": {},
   "outputs": [],
   "source": [
    "from bse_core import get_range_quarters_data, pivot_announcement_links, search_bse_company"
   ]
  },
  {
   "cell_type": "code",
   "execution_count": 3,
   "id": "cc3a1ec3",
   "metadata": {},
   "outputs": [
    {
     "name": "stdout",
     "output_type": "stream",
     "text": [
      "calling for a request to BSE results from 20230701 to 20230930\n",
      "calling for a request to BSE results from 20230701 to 20230930\n",
      "calling for a request to BSE presentation from 20230701 to 20230930\n",
      "calling for a request to BSE transcript from 20230701 to 20230930\n",
      "calling for a request to BSE results from 20231001 to 20231231\n",
      "calling for a request to BSE results from 20231001 to 20231231\n",
      "calling for a request to BSE presentation from 20231001 to 20231231\n",
      "calling for a request to BSE transcript from 20231001 to 20231231\n",
      "calling for a request to BSE results from 20240101 to 20240331\n",
      "calling for a request to BSE results from 20240101 to 20240331\n",
      "calling for a request to BSE presentation from 20240101 to 20240331\n",
      "calling for a request to BSE transcript from 20240101 to 20240331\n",
      "calling for a request to BSE results from 20240401 to 20240630\n",
      "calling for a request to BSE presentation from 20240401 to 20240630\n",
      "calling for a request to BSE transcript from 20240401 to 20240630\n",
      "calling for a request to BSE results from 20240701 to 20240930\n",
      "calling for a request to BSE results from 20240701 to 20240930\n",
      "calling for a request to BSE presentation from 20240701 to 20240930\n",
      "calling for a request to BSE transcript from 20240701 to 20240930\n",
      "calling for a request to BSE results from 20241001 to 20241231\n",
      "calling for a request to BSE presentation from 20241001 to 20241231\n",
      "calling for a request to BSE transcript from 20241001 to 20241231\n",
      "          Config        Date  \\\n",
      "0        results  2024-03-22   \n",
      "1        results  2024-04-02   \n",
      "2   presentation  2024-05-09   \n",
      "3   presentation  2024-04-02   \n",
      "4     transcript  2024-05-13   \n",
      "5     transcript  2024-05-11   \n",
      "6     transcript  2024-04-08   \n",
      "7        results  2024-09-19   \n",
      "8        results  2024-07-18   \n",
      "9        results  2024-07-09   \n",
      "10  presentation  2024-07-18   \n",
      "11    transcript  2024-07-29   \n",
      "12    transcript  2024-07-24   \n",
      "13       results  2024-10-14   \n",
      "14  presentation  2024-10-14   \n",
      "15    transcript  2024-10-18   \n",
      "\n",
      "                                          Description  \\\n",
      "0   Gopal Snacks Ltdhas informed BSE that the meet...   \n",
      "1                                        As attached.   \n",
      "2   Investor presentation in relation to the audit...   \n",
      "3                                         As attached   \n",
      "4   The Earning conference call with the Analysts ...   \n",
      "5   The Earning Conference call with Investors and...   \n",
      "6   enclosed herewith the transcript of the earnin...   \n",
      "7   Gopal Snacks Ltdhas informed BSE that the meet...   \n",
      "8   Attached unaudited standalone quarterly financ...   \n",
      "9   Gopal Snacks Ltdhas informed BSE that the meet...   \n",
      "10  Investor Presentation on financial results for...   \n",
      "11  Attached herewith the transcript of Earning Co...   \n",
      "12  The Earning Conference Call with Investors and...   \n",
      "13                                       As attached.   \n",
      "14  The Investor Presentation for the unaudited st...   \n",
      "15  The transcript of Earning Call held on 15th Oc...   \n",
      "\n",
      "                                                 Link  Quarter  FiscalYear  \n",
      "0   https://www.bseindia.com/xml-data/corpfiling/A...        3        2024  \n",
      "1   https://www.bseindia.com/xml-data/corpfiling/A...        4        2024  \n",
      "2   https://www.bseindia.com/xml-data/corpfiling/A...        4        2024  \n",
      "3   https://www.bseindia.com/xml-data/corpfiling/A...        4        2024  \n",
      "4   https://www.bseindia.com/xml-data/corpfiling/A...        4        2024  \n",
      "5   https://www.bseindia.com/xml-data/corpfiling/A...        4        2024  \n",
      "6   https://www.bseindia.com/xml-data/corpfiling/A...        4        2024  \n",
      "7   https://www.bseindia.com/xml-data/corpfiling/A...        1        2025  \n",
      "8   https://www.bseindia.com/xml-data/corpfiling/A...        1        2025  \n",
      "9   https://www.bseindia.com/xml-data/corpfiling/A...        1        2025  \n",
      "10  https://www.bseindia.com/xml-data/corpfiling/A...        1        2025  \n",
      "11  https://www.bseindia.com/xml-data/corpfiling/A...        1        2025  \n",
      "12  https://www.bseindia.com/xml-data/corpfiling/A...        1        2025  \n",
      "13  https://www.bseindia.com/xml-data/corpfiling/A...        2        2025  \n",
      "14  https://www.bseindia.com/xml-data/corpfiling/A...        2        2025  \n",
      "15  https://www.bseindia.com/xml-data/corpfiling/A...        2        2025  \n"
     ]
    }
   ],
   "source": [
    "configs = [\n",
    "    {\"name\": \"results\", \"category\": \"Result\", \"lookahead\": True},  \n",
    "    {\"name\": \"results\", \"category\": \"Board Meeting\", \"filter\": \"result\", \"lookahead\": True},  \n",
    "    {\"name\": \"presentation\", \"category\": \"Company Update\", \"filter\": \"presentation\", \"lookahead\": True},\n",
    "    {\"name\": \"transcript\", \"category\": \"Company Update\", \"filter\": \"transcript\", \"lookahead\": True}\n",
    "]\n",
    "\n",
    "scrip_code = \"544140\"  # Example scrip code\n",
    "df = get_range_quarters_data(scrip_code, 1, 2024, 2, 2025, configs)\n",
    "\n",
    "print(df)"
   ]
  },
  {
   "cell_type": "code",
   "execution_count": 4,
   "id": "405f779a",
   "metadata": {},
   "outputs": [
    {
     "name": "stdout",
     "output_type": "stream",
     "text": [
      "hello\n"
     ]
    }
   ],
   "source": [
    "print(\"hello\")"
   ]
  },
  {
   "cell_type": "code",
   "execution_count": 7,
   "id": "cc839ed3",
   "metadata": {},
   "outputs": [],
   "source": [
    "pivot_df = pivot_announcement_links(df)"
   ]
  },
  {
   "cell_type": "code",
   "execution_count": 2,
   "id": "5e625bad",
   "metadata": {},
   "outputs": [
    {
     "data": {
      "text/plain": [
       "[{'name': '<strong>BALAJI</strong> AMINES LTD', 'scrip_code': '530999'},\n",
       " {'name': '<strong>BALAJI</strong> TELEFILMS LTD', 'scrip_code': '532382'},\n",
       " {'name': 'JAI <strong>BALAJI</strong> INDUSTRIES LTD',\n",
       "  'scrip_code': '532976'},\n",
       " {'name': 'SHRI <strong>BALAJI</strong> VALVE COMPONENTS LTD',\n",
       "  'scrip_code': '544074'}]"
      ]
     },
     "execution_count": 2,
     "metadata": {},
     "output_type": "execute_result"
    }
   ],
   "source": [
    "search_bse_company(\"balaji\")"
   ]
  },
  {
   "cell_type": "code",
   "execution_count": null,
   "id": "070ee30e",
   "metadata": {},
   "outputs": [],
   "source": []
  }
 ],
 "metadata": {
  "kernelspec": {
   "display_name": "comp_results_profiler",
   "language": "python",
   "name": "python3"
  },
  "language_info": {
   "codemirror_mode": {
    "name": "ipython",
    "version": 3
   },
   "file_extension": ".py",
   "mimetype": "text/x-python",
   "name": "python",
   "nbconvert_exporter": "python",
   "pygments_lexer": "ipython3",
   "version": "3.13.5"
  }
 },
 "nbformat": 4,
 "nbformat_minor": 5
}
