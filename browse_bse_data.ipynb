{
 "cells": [
  {
   "cell_type": "code",
   "execution_count": 1,
   "id": "035e99e4",
   "metadata": {},
   "outputs": [],
   "source": [
    "from bse_core import get_range_quarters_data, pivot_announcement_links, search_bse_company"
   ]
  },
  {
   "cell_type": "code",
   "execution_count": 4,
   "id": "cc3a1ec3",
   "metadata": {},
   "outputs": [
    {
     "name": "stdout",
     "output_type": "stream",
     "text": [
      "calling for a request to BSE results from 20240101 to 20240331\n",
      "calling for a request to BSE results from 20240101 to 20240331\n",
      "calling for a request to BSE presentation from 20240101 to 20240331\n",
      "calling for a request to BSE transcript from 20240101 to 20240331\n",
      "calling for a request to BSE results from 20240401 to 20240630\n",
      "calling for a request to BSE presentation from 20240401 to 20240630\n",
      "calling for a request to BSE transcript from 20240401 to 20240630\n",
      "calling for a request to BSE results from 20240701 to 20240930\n",
      "calling for a request to BSE presentation from 20240701 to 20240930\n",
      "calling for a request to BSE transcript from 20240701 to 20240930\n",
      "calling for a request to BSE results from 20241001 to 20241231\n",
      "calling for a request to BSE results from 20241001 to 20241231\n",
      "calling for a request to BSE presentation from 20241001 to 20241231\n",
      "calling for a request to BSE transcript from 20241001 to 20241231\n",
      "calling for a request to BSE results from 20250101 to 20250331\n",
      "calling for a request to BSE presentation from 20250101 to 20250331\n",
      "calling for a request to BSE transcript from 20250101 to 20250331\n",
      "calling for a request to BSE results from 20250401 to 20250630\n",
      "calling for a request to BSE presentation from 20250401 to 20250630\n",
      "calling for a request to BSE transcript from 20250401 to 20250630\n",
      "          Config        Date  \\\n",
      "0        results  2024-01-16   \n",
      "1   presentation  2024-03-06   \n",
      "2   presentation  2024-02-05   \n",
      "3   presentation  2024-01-16   \n",
      "4     transcript  2024-01-23   \n",
      "5        results  2024-04-20   \n",
      "6   presentation  2024-04-21   \n",
      "7     transcript  2024-04-26   \n",
      "8        results  2024-07-20   \n",
      "9     transcript  2024-07-25   \n",
      "10       results  2024-12-16   \n",
      "11       results  2024-10-19   \n",
      "12    transcript  2024-10-25   \n",
      "13       results  2025-01-22   \n",
      "14  presentation  2025-01-22   \n",
      "15    transcript  2025-01-29   \n",
      "16       results  2025-04-19   \n",
      "17  presentation  2025-04-19   \n",
      "18    transcript  2025-04-24   \n",
      "\n",
      "                                          Description  \\\n",
      "0   Unaudited Financial Results of HDFC Bank Limit...   \n",
      "1                               Investor Presentation   \n",
      "2   Presentation - Analyst/ Institutional Investor...   \n",
      "3   Presentation and Audio Recording of Earnings C...   \n",
      "4   Transcript of Earnings Call for the third quar...   \n",
      "5   Audited Financial Results of HDFC Bank Limited...   \n",
      "6   Presentation and Audio Recording of Earnings C...   \n",
      "7   Transcript of Earnings call for the year ended...   \n",
      "8   Unaudited Financial Results for the First quar...   \n",
      "9   Transcript of Earnings call for the quarter en...   \n",
      "10  HDFC Bank Ltdhas informed BSE that the meeting...   \n",
      "11  Unaudited Financial Results of HDFC Bank Limit...   \n",
      "12  Transcript of Earnings Call for the quarter an...   \n",
      "13  Unaudited Financial Results of HDFC Bank Limit...   \n",
      "14                         Earnings Call Presentation   \n",
      "15  Transcript of Earnings call for the quarter an...   \n",
      "16  Audited Standalone and Consolidated Financial ...   \n",
      "17                              Investor Presentation   \n",
      "18  Transcript of Earnings Call for the quarter an...   \n",
      "\n",
      "                                                 Link  Quarter  FiscalYear  \n",
      "0   https://www.bseindia.com/ce704155-02ba-43f0-a1...        3        2024  \n",
      "1   https://www.bseindia.com/12bab14e-f504-46e9-90...        3        2024  \n",
      "2   https://www.bseindia.com/163829d1-3b5f-41f7-bd...        3        2024  \n",
      "3   https://www.bseindia.com/8698bde0-22f0-4ff0-bf...        3        2024  \n",
      "4   https://www.bseindia.com/d34bd589-124e-40f2-80...        3        2024  \n",
      "5   https://www.bseindia.com/c519bb2e-9c54-4d27-a1...        4        2024  \n",
      "6   https://www.bseindia.com/cfec6f23-15dd-4081-83...        4        2024  \n",
      "7   https://www.bseindia.com/880ee466-e764-4e05-9e...        4        2024  \n",
      "8   https://www.bseindia.com/a95d14b5-8570-4cee-94...        1        2025  \n",
      "9   https://www.bseindia.com/94d03650-9410-4870-b9...        1        2025  \n",
      "10  https://www.bseindia.com/129b86de-19f3-44d4-a4...        2        2025  \n",
      "11  https://www.bseindia.com/f471ad84-c7c5-4992-98...        2        2025  \n",
      "12  https://www.bseindia.com/c7affe75-673f-4507-b4...        2        2025  \n",
      "13  https://www.bseindia.com/0b7b00aa-4756-4881-a8...        3        2025  \n",
      "14  https://www.bseindia.com/b4043b6a-465f-4bef-a9...        3        2025  \n",
      "15  https://www.bseindia.com/a7e4ad26-5c9e-4ffe-a6...        3        2025  \n",
      "16  https://www.bseindia.com/77dd1f75-6b85-4aac-83...        4        2025  \n",
      "17  https://www.bseindia.com/e19ba89d-02a3-48aa-be...        4        2025  \n",
      "18  https://www.bseindia.com/ff4ae1b4-cf07-4f6d-b0...        4        2025  \n"
     ]
    }
   ],
   "source": [
    "configs = [\n",
    "    {\"name\": \"results\", \"category\": \"Result\", \"lookahead\": True},  \n",
    "    {\"name\": \"results\", \"category\": \"Board Meeting\", \"filter\": \"result\", \"lookahead\": True},  \n",
    "    {\"name\": \"presentation\", \"category\": \"Company Update\", \"filter\": \"presentation\", \"lookahead\": True},\n",
    "    {\"name\": \"transcript\", \"category\": \"Company Update\", \"filter\": \"transcript\", \"lookahead\": True}\n",
    "]\n",
    "\n",
    "scrip_code = \"500180\"  # Example scrip code\n",
    "df = get_range_quarters_data(scrip_code, 3, 2024, 4, 2025, configs)\n",
    "\n",
    "print(df)"
   ]
  },
  {
   "cell_type": "code",
   "execution_count": 5,
   "id": "405f779a",
   "metadata": {},
   "outputs": [
    {
     "name": "stdout",
     "output_type": "stream",
     "text": [
      "hello\n"
     ]
    }
   ],
   "source": [
    "print(\"hello\")"
   ]
  },
  {
   "cell_type": "code",
   "execution_count": 7,
   "id": "cc839ed3",
   "metadata": {},
   "outputs": [],
   "source": [
    "pivot_df = pivot_announcement_links(df)"
   ]
  },
  {
   "cell_type": "code",
   "execution_count": 2,
   "id": "5e625bad",
   "metadata": {},
   "outputs": [
    {
     "data": {
      "text/plain": [
       "[{'name': '<strong>BALAJI</strong> AMINES LTD', 'scrip_code': '530999'},\n",
       " {'name': '<strong>BALAJI</strong> TELEFILMS LTD', 'scrip_code': '532382'},\n",
       " {'name': 'JAI <strong>BALAJI</strong> INDUSTRIES LTD',\n",
       "  'scrip_code': '532976'},\n",
       " {'name': 'SHRI <strong>BALAJI</strong> VALVE COMPONENTS LTD',\n",
       "  'scrip_code': '544074'}]"
      ]
     },
     "execution_count": 2,
     "metadata": {},
     "output_type": "execute_result"
    }
   ],
   "source": [
    "search_bse_company(\"balaji\")"
   ]
  },
  {
   "cell_type": "code",
   "execution_count": null,
   "id": "070ee30e",
   "metadata": {},
   "outputs": [],
   "source": []
  }
 ],
 "metadata": {
  "kernelspec": {
   "display_name": "comp_results_profiler",
   "language": "python",
   "name": "python3"
  },
  "language_info": {
   "codemirror_mode": {
    "name": "ipython",
    "version": 3
   },
   "file_extension": ".py",
   "mimetype": "text/x-python",
   "name": "python",
   "nbconvert_exporter": "python",
   "pygments_lexer": "ipython3",
   "version": "3.13.5"
  }
 },
 "nbformat": 4,
 "nbformat_minor": 5
}
